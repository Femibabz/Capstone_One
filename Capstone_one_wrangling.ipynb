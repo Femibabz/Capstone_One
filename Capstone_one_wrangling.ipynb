{
 "cells": [
  {
   "cell_type": "markdown",
   "metadata": {},
   "source": [
    "# Capstone Project on Apple App Rating "
   ]
  },
  {
   "cell_type": "markdown",
   "metadata": {},
   "source": [
    "### Problem Summary:\n",
    "With million of apps around nowadays, mobile app analytics is a great way to understand the existing strategy to drive growth and retention of future user. This data set contains more than 7000 Apple iOS mobile application details, e.g. size, price, genre, rating_count, description and etc. The data was extracted from the iTunes Search API at the Apple Inc website. The goal is to predict whether the overall rating for the app is more than 4 stars (1=yes, 0=no), which we think it a very good app."
   ]
  },
  {
   "cell_type": "markdown",
   "metadata": {},
   "source": [
    "# Data Wrangling Steps\n",
    "\n",
    "1. Data Collection\n",
    "    * Locating the data\n",
    "    * Data loading\n",
    "    * Data joining\n",
    "2. Data Organization\n",
    "    * File structure\n",
    "    * Git & Github\n",
    "3. Data Definition\n",
    "    * Column names\n",
    "    * Data types (numeric, categorical, timestamp, etc.)\n",
    "    * Description of the columns\n",
    "    * Count or percent per unique values or codes (including NA)\n",
    "    * The range of values or codes\n",
    "4. Data Cleaning\n",
    "    * NA or missing data\n",
    "    * Duplicates"
   ]
  },
  {
   "cell_type": "markdown",
   "metadata": {},
   "source": [
    "Importing packages"
   ]
  },
  {
   "cell_type": "code",
   "execution_count": 1,
   "metadata": {},
   "outputs": [],
   "source": [
    "import os\n",
    "import pandas as pd\n",
    "import numpy as np\n",
    "import matplotlib.pyplot as plt\n",
    "import datetime\n",
    "from langdetect import detect, DetectorFactory\n",
    "from textblob import TextBlob\n",
    "from collections import Counter"
   ]
  },
  {
   "cell_type": "markdown",
   "metadata": {},
   "source": [
    "Print out current working directory"
   ]
  },
  {
   "cell_type": "code",
   "execution_count": 2,
   "metadata": {},
   "outputs": [
    {
     "name": "stdout",
     "output_type": "stream",
     "text": [
      "/Users/oluwafemibabatunde\n"
     ]
    }
   ],
   "source": [
    "print(os.getcwd())"
   ]
  },
  {
   "cell_type": "code",
   "execution_count": 3,
   "metadata": {},
   "outputs": [],
   "source": [
    "path = '/Users/oluwafemibabatunde/Desktop/Springboard/capstone_one/apple-app'"
   ]
  },
  {
   "cell_type": "markdown",
   "metadata": {},
   "source": [
    "Change current working directory"
   ]
  },
  {
   "cell_type": "code",
   "execution_count": 4,
   "metadata": {},
   "outputs": [
    {
     "data": {
      "text/plain": [
       "['app_train.csv',\n",
       " 'app_test.csv',\n",
       " 'figures',\n",
       " 'model',\n",
       " 'data',\n",
       " 'sample_submission.csv']"
      ]
     },
     "execution_count": 4,
     "metadata": {},
     "output_type": "execute_result"
    }
   ],
   "source": [
    "directory = os.chdir(path)\n",
    "os.listdir(directory)"
   ]
  },
  {
   "cell_type": "markdown",
   "metadata": {},
   "source": [
    "Import Train Data using pandas"
   ]
  },
  {
   "cell_type": "code",
   "execution_count": 5,
   "metadata": {},
   "outputs": [],
   "source": [
    "df_train = pd.read_csv('app_train.csv')"
   ]
  },
  {
   "cell_type": "code",
   "execution_count": 6,
   "metadata": {},
   "outputs": [
    {
     "data": {
      "text/html": [
       "<div>\n",
       "<style scoped>\n",
       "    .dataframe tbody tr th:only-of-type {\n",
       "        vertical-align: middle;\n",
       "    }\n",
       "\n",
       "    .dataframe tbody tr th {\n",
       "        vertical-align: top;\n",
       "    }\n",
       "\n",
       "    .dataframe thead th {\n",
       "        text-align: right;\n",
       "    }\n",
       "</style>\n",
       "<table border=\"1\" class=\"dataframe\">\n",
       "  <thead>\n",
       "    <tr style=\"text-align: right;\">\n",
       "      <th></th>\n",
       "      <th>id</th>\n",
       "      <th>track_name</th>\n",
       "      <th>size_bytes</th>\n",
       "      <th>currency</th>\n",
       "      <th>price</th>\n",
       "      <th>rating_count_tot</th>\n",
       "      <th>rating_count_ver</th>\n",
       "      <th>ver</th>\n",
       "      <th>cont_rating</th>\n",
       "      <th>prime_genre</th>\n",
       "      <th>sup_devices.num</th>\n",
       "      <th>ipadSc_urls.num</th>\n",
       "      <th>lang.num</th>\n",
       "      <th>vpp_lic</th>\n",
       "      <th>desc</th>\n",
       "      <th>rating</th>\n",
       "    </tr>\n",
       "  </thead>\n",
       "  <tbody>\n",
       "    <tr>\n",
       "      <td>0</td>\n",
       "      <td>1169417102</td>\n",
       "      <td>ミリオン行進曲</td>\n",
       "      <td>196380672</td>\n",
       "      <td>USD</td>\n",
       "      <td>4.99</td>\n",
       "      <td>1</td>\n",
       "      <td>1</td>\n",
       "      <td>1.02</td>\n",
       "      <td>4+</td>\n",
       "      <td>Games</td>\n",
       "      <td>38</td>\n",
       "      <td>5</td>\n",
       "      <td>1</td>\n",
       "      <td>1</td>\n",
       "      <td>音楽事務所の社長に就任して歌手の卵を育てる、アイドル歌手育成シミュレーションゲーム ！\\r\\...</td>\n",
       "      <td>0</td>\n",
       "    </tr>\n",
       "    <tr>\n",
       "      <td>1</td>\n",
       "      <td>965748314</td>\n",
       "      <td>Pinata Hunter 3</td>\n",
       "      <td>38805504</td>\n",
       "      <td>USD</td>\n",
       "      <td>0.00</td>\n",
       "      <td>199</td>\n",
       "      <td>199</td>\n",
       "      <td>1.0.0</td>\n",
       "      <td>9+</td>\n",
       "      <td>Games</td>\n",
       "      <td>43</td>\n",
       "      <td>3</td>\n",
       "      <td>16</td>\n",
       "      <td>0</td>\n",
       "      <td>Finally, it is back! The Pinata is here with t...</td>\n",
       "      <td>0</td>\n",
       "    </tr>\n",
       "    <tr>\n",
       "      <td>2</td>\n",
       "      <td>307764057</td>\n",
       "      <td>niconico</td>\n",
       "      <td>25808896</td>\n",
       "      <td>USD</td>\n",
       "      <td>0.00</td>\n",
       "      <td>182</td>\n",
       "      <td>0</td>\n",
       "      <td>6.52</td>\n",
       "      <td>17+</td>\n",
       "      <td>Entertainment</td>\n",
       "      <td>37</td>\n",
       "      <td>5</td>\n",
       "      <td>3</td>\n",
       "      <td>1</td>\n",
       "      <td>The Niconico app allows you to watch Niconico ...</td>\n",
       "      <td>0</td>\n",
       "    </tr>\n",
       "    <tr>\n",
       "      <td>3</td>\n",
       "      <td>1005783927</td>\n",
       "      <td>Frozen Frenzy Mania: Challenging Match 3 Games</td>\n",
       "      <td>296790016</td>\n",
       "      <td>USD</td>\n",
       "      <td>0.00</td>\n",
       "      <td>4104</td>\n",
       "      <td>143</td>\n",
       "      <td>2.1.1</td>\n",
       "      <td>4+</td>\n",
       "      <td>Games</td>\n",
       "      <td>37</td>\n",
       "      <td>5</td>\n",
       "      <td>1</td>\n",
       "      <td>1</td>\n",
       "      <td>Match ice cream treats to break through cookie...</td>\n",
       "      <td>1</td>\n",
       "    </tr>\n",
       "    <tr>\n",
       "      <td>4</td>\n",
       "      <td>350642635</td>\n",
       "      <td>Plants vs. Zombies</td>\n",
       "      <td>105379840</td>\n",
       "      <td>USD</td>\n",
       "      <td>0.99</td>\n",
       "      <td>426463</td>\n",
       "      <td>680</td>\n",
       "      <td>1.9.13</td>\n",
       "      <td>9+</td>\n",
       "      <td>Games</td>\n",
       "      <td>38</td>\n",
       "      <td>0</td>\n",
       "      <td>5</td>\n",
       "      <td>1</td>\n",
       "      <td>The game requires iOS 6 compatible device.\\r\\n...</td>\n",
       "      <td>1</td>\n",
       "    </tr>\n",
       "  </tbody>\n",
       "</table>\n",
       "</div>"
      ],
      "text/plain": [
       "           id                                      track_name  size_bytes  \\\n",
       "0  1169417102                                         ミリオン行進曲   196380672   \n",
       "1   965748314                                 Pinata Hunter 3    38805504   \n",
       "2   307764057                                        niconico    25808896   \n",
       "3  1005783927  Frozen Frenzy Mania: Challenging Match 3 Games   296790016   \n",
       "4   350642635                              Plants vs. Zombies   105379840   \n",
       "\n",
       "  currency  price  rating_count_tot  rating_count_ver     ver cont_rating  \\\n",
       "0      USD   4.99                 1                 1    1.02          4+   \n",
       "1      USD   0.00               199               199   1.0.0          9+   \n",
       "2      USD   0.00               182                 0    6.52         17+   \n",
       "3      USD   0.00              4104               143   2.1.1          4+   \n",
       "4      USD   0.99            426463               680  1.9.13          9+   \n",
       "\n",
       "     prime_genre  sup_devices.num  ipadSc_urls.num  lang.num  vpp_lic  \\\n",
       "0          Games               38                5         1        1   \n",
       "1          Games               43                3        16        0   \n",
       "2  Entertainment               37                5         3        1   \n",
       "3          Games               37                5         1        1   \n",
       "4          Games               38                0         5        1   \n",
       "\n",
       "                                                desc  rating  \n",
       "0  音楽事務所の社長に就任して歌手の卵を育てる、アイドル歌手育成シミュレーションゲーム ！\\r\\...       0  \n",
       "1  Finally, it is back! The Pinata is here with t...       0  \n",
       "2  The Niconico app allows you to watch Niconico ...       0  \n",
       "3  Match ice cream treats to break through cookie...       1  \n",
       "4  The game requires iOS 6 compatible device.\\r\\n...       1  "
      ]
     },
     "execution_count": 6,
     "metadata": {},
     "output_type": "execute_result"
    }
   ],
   "source": [
    "df_train.head()"
   ]
  },
  {
   "cell_type": "markdown",
   "metadata": {},
   "source": [
    "Creating file structure for data organization"
   ]
  },
  {
   "cell_type": "code",
   "execution_count": 7,
   "metadata": {},
   "outputs": [],
   "source": [
    "datapath = \"/Users/oluwafemibabatunde/Desktop/Springboard/capstone_one/apple-app/data\"\n",
    "if not os.path.isdir(datapath):\n",
    "   os.makedirs(datapath)"
   ]
  },
  {
   "cell_type": "code",
   "execution_count": 8,
   "metadata": {},
   "outputs": [],
   "source": [
    "figpath = \"/Users/oluwafemibabatunde/Desktop/Springboard/capstone_one/apple-app/figures\"\n",
    "if not os.path.isdir(figpath):\n",
    "   os.makedirs(figpath)"
   ]
  },
  {
   "cell_type": "code",
   "execution_count": 9,
   "metadata": {},
   "outputs": [],
   "source": [
    "modelpath = \"/Users/oluwafemibabatunde/Desktop/Springboard/capstone_one/apple-app/model\"\n",
    "if not os.path.isdir(modelpath):\n",
    "   os.makedirs(modelpath)"
   ]
  },
  {
   "cell_type": "markdown",
   "metadata": {},
   "source": [
    "View shape of dataframe"
   ]
  },
  {
   "cell_type": "code",
   "execution_count": 10,
   "metadata": {},
   "outputs": [
    {
     "data": {
      "text/plain": [
       "(5197, 16)"
      ]
     },
     "execution_count": 10,
     "metadata": {},
     "output_type": "execute_result"
    }
   ],
   "source": [
    "df_train.shape"
   ]
  },
  {
   "cell_type": "markdown",
   "metadata": {},
   "source": [
    "View descriptive Statistics of dataframe"
   ]
  },
  {
   "cell_type": "code",
   "execution_count": 11,
   "metadata": {},
   "outputs": [
    {
     "data": {
      "text/html": [
       "<div>\n",
       "<style scoped>\n",
       "    .dataframe tbody tr th:only-of-type {\n",
       "        vertical-align: middle;\n",
       "    }\n",
       "\n",
       "    .dataframe tbody tr th {\n",
       "        vertical-align: top;\n",
       "    }\n",
       "\n",
       "    .dataframe thead th {\n",
       "        text-align: right;\n",
       "    }\n",
       "</style>\n",
       "<table border=\"1\" class=\"dataframe\">\n",
       "  <thead>\n",
       "    <tr style=\"text-align: right;\">\n",
       "      <th></th>\n",
       "      <th>id</th>\n",
       "      <th>size_bytes</th>\n",
       "      <th>price</th>\n",
       "      <th>rating_count_tot</th>\n",
       "      <th>rating_count_ver</th>\n",
       "      <th>sup_devices.num</th>\n",
       "      <th>ipadSc_urls.num</th>\n",
       "      <th>lang.num</th>\n",
       "      <th>vpp_lic</th>\n",
       "      <th>rating</th>\n",
       "    </tr>\n",
       "  </thead>\n",
       "  <tbody>\n",
       "    <tr>\n",
       "      <td>count</td>\n",
       "      <td>5.197000e+03</td>\n",
       "      <td>5.197000e+03</td>\n",
       "      <td>5197.000000</td>\n",
       "      <td>5.197000e+03</td>\n",
       "      <td>5197.000000</td>\n",
       "      <td>5197.000000</td>\n",
       "      <td>5197.000000</td>\n",
       "      <td>5197.000000</td>\n",
       "      <td>5197.000000</td>\n",
       "      <td>5197.000000</td>\n",
       "    </tr>\n",
       "    <tr>\n",
       "      <td>mean</td>\n",
       "      <td>8.645881e+08</td>\n",
       "      <td>1.970589e+08</td>\n",
       "      <td>1.741312</td>\n",
       "      <td>1.288472e+04</td>\n",
       "      <td>463.634982</td>\n",
       "      <td>37.422359</td>\n",
       "      <td>3.719454</td>\n",
       "      <td>5.405426</td>\n",
       "      <td>0.993265</td>\n",
       "      <td>0.434866</td>\n",
       "    </tr>\n",
       "    <tr>\n",
       "      <td>std</td>\n",
       "      <td>2.713919e+08</td>\n",
       "      <td>3.417424e+08</td>\n",
       "      <td>6.534191</td>\n",
       "      <td>7.080212e+04</td>\n",
       "      <td>4039.022340</td>\n",
       "      <td>3.626466</td>\n",
       "      <td>1.981193</td>\n",
       "      <td>7.901467</td>\n",
       "      <td>0.081796</td>\n",
       "      <td>0.495787</td>\n",
       "    </tr>\n",
       "    <tr>\n",
       "      <td>min</td>\n",
       "      <td>2.816565e+08</td>\n",
       "      <td>6.184960e+05</td>\n",
       "      <td>0.000000</td>\n",
       "      <td>0.000000e+00</td>\n",
       "      <td>0.000000</td>\n",
       "      <td>9.000000</td>\n",
       "      <td>0.000000</td>\n",
       "      <td>0.000000</td>\n",
       "      <td>0.000000</td>\n",
       "      <td>0.000000</td>\n",
       "    </tr>\n",
       "    <tr>\n",
       "      <td>25%</td>\n",
       "      <td>5.998529e+08</td>\n",
       "      <td>4.758528e+07</td>\n",
       "      <td>0.000000</td>\n",
       "      <td>2.700000e+01</td>\n",
       "      <td>1.000000</td>\n",
       "      <td>37.000000</td>\n",
       "      <td>3.000000</td>\n",
       "      <td>1.000000</td>\n",
       "      <td>1.000000</td>\n",
       "      <td>0.000000</td>\n",
       "    </tr>\n",
       "    <tr>\n",
       "      <td>50%</td>\n",
       "      <td>9.818191e+08</td>\n",
       "      <td>9.824666e+07</td>\n",
       "      <td>0.000000</td>\n",
       "      <td>3.070000e+02</td>\n",
       "      <td>24.000000</td>\n",
       "      <td>37.000000</td>\n",
       "      <td>5.000000</td>\n",
       "      <td>1.000000</td>\n",
       "      <td>1.000000</td>\n",
       "      <td>0.000000</td>\n",
       "    </tr>\n",
       "    <tr>\n",
       "      <td>75%</td>\n",
       "      <td>1.082678e+09</td>\n",
       "      <td>1.853706e+08</td>\n",
       "      <td>1.990000</td>\n",
       "      <td>2.908000e+03</td>\n",
       "      <td>145.000000</td>\n",
       "      <td>38.000000</td>\n",
       "      <td>5.000000</td>\n",
       "      <td>8.000000</td>\n",
       "      <td>1.000000</td>\n",
       "      <td>1.000000</td>\n",
       "    </tr>\n",
       "    <tr>\n",
       "      <td>max</td>\n",
       "      <td>1.187839e+09</td>\n",
       "      <td>4.025970e+09</td>\n",
       "      <td>299.990000</td>\n",
       "      <td>2.161558e+06</td>\n",
       "      <td>177050.000000</td>\n",
       "      <td>47.000000</td>\n",
       "      <td>5.000000</td>\n",
       "      <td>75.000000</td>\n",
       "      <td>1.000000</td>\n",
       "      <td>1.000000</td>\n",
       "    </tr>\n",
       "  </tbody>\n",
       "</table>\n",
       "</div>"
      ],
      "text/plain": [
       "                 id    size_bytes        price  rating_count_tot  \\\n",
       "count  5.197000e+03  5.197000e+03  5197.000000      5.197000e+03   \n",
       "mean   8.645881e+08  1.970589e+08     1.741312      1.288472e+04   \n",
       "std    2.713919e+08  3.417424e+08     6.534191      7.080212e+04   \n",
       "min    2.816565e+08  6.184960e+05     0.000000      0.000000e+00   \n",
       "25%    5.998529e+08  4.758528e+07     0.000000      2.700000e+01   \n",
       "50%    9.818191e+08  9.824666e+07     0.000000      3.070000e+02   \n",
       "75%    1.082678e+09  1.853706e+08     1.990000      2.908000e+03   \n",
       "max    1.187839e+09  4.025970e+09   299.990000      2.161558e+06   \n",
       "\n",
       "       rating_count_ver  sup_devices.num  ipadSc_urls.num     lang.num  \\\n",
       "count       5197.000000      5197.000000      5197.000000  5197.000000   \n",
       "mean         463.634982        37.422359         3.719454     5.405426   \n",
       "std         4039.022340         3.626466         1.981193     7.901467   \n",
       "min            0.000000         9.000000         0.000000     0.000000   \n",
       "25%            1.000000        37.000000         3.000000     1.000000   \n",
       "50%           24.000000        37.000000         5.000000     1.000000   \n",
       "75%          145.000000        38.000000         5.000000     8.000000   \n",
       "max       177050.000000        47.000000         5.000000    75.000000   \n",
       "\n",
       "           vpp_lic       rating  \n",
       "count  5197.000000  5197.000000  \n",
       "mean      0.993265     0.434866  \n",
       "std       0.081796     0.495787  \n",
       "min       0.000000     0.000000  \n",
       "25%       1.000000     0.000000  \n",
       "50%       1.000000     0.000000  \n",
       "75%       1.000000     1.000000  \n",
       "max       1.000000     1.000000  "
      ]
     },
     "execution_count": 11,
     "metadata": {},
     "output_type": "execute_result"
    }
   ],
   "source": [
    "df_train.describe()"
   ]
  },
  {
   "cell_type": "markdown",
   "metadata": {},
   "source": [
    "Language Count in dataframe "
   ]
  },
  {
   "cell_type": "code",
   "execution_count": 12,
   "metadata": {
    "scrolled": true
   },
   "outputs": [
    {
     "data": {
      "text/plain": [
       "id                  0\n",
       "track_name          0\n",
       "size_bytes          0\n",
       "currency            0\n",
       "price               0\n",
       "rating_count_tot    0\n",
       "rating_count_ver    0\n",
       "ver                 0\n",
       "cont_rating         0\n",
       "prime_genre         0\n",
       "sup_devices.num     0\n",
       "ipadSc_urls.num     0\n",
       "lang.num            0\n",
       "vpp_lic             0\n",
       "desc                0\n",
       "rating              0\n",
       "dtype: int64"
      ]
     },
     "execution_count": 12,
     "metadata": {},
     "output_type": "execute_result"
    }
   ],
   "source": [
    "df_train.isnull().sum()"
   ]
  },
  {
   "cell_type": "code",
   "execution_count": 13,
   "metadata": {},
   "outputs": [
    {
     "data": {
      "text/plain": [
       "id                  0\n",
       "track_name          0\n",
       "size_bytes          0\n",
       "currency            0\n",
       "price               0\n",
       "rating_count_tot    0\n",
       "rating_count_ver    0\n",
       "ver                 0\n",
       "cont_rating         0\n",
       "prime_genre         0\n",
       "sup_devices.num     0\n",
       "ipadSc_urls.num     0\n",
       "lang.num            0\n",
       "vpp_lic             0\n",
       "desc                0\n",
       "rating              0\n",
       "dtype: int64"
      ]
     },
     "execution_count": 13,
     "metadata": {},
     "output_type": "execute_result"
    }
   ],
   "source": [
    "df_train.isna().sum()"
   ]
  },
  {
   "cell_type": "markdown",
   "metadata": {},
   "source": [
    "Language counts for app. track_name column"
   ]
  },
  {
   "cell_type": "code",
   "execution_count": 14,
   "metadata": {},
   "outputs": [
    {
     "name": "stdout",
     "output_type": "stream",
     "text": [
      "This row throws error: 1010!\n",
      "This row throws error: 2048\n"
     ]
    }
   ],
   "source": [
    "texl70 = df_train['track_name']\n",
    "langdet = []                                                    \n",
    "\n",
    "for i in range(len(df_train)):                                         \n",
    "    try:                                                          \n",
    "       lang=detect(texl70[i])                                      \n",
    "    except:                                                       \n",
    "       lang='no'                                                  \n",
    "       print(\"This row throws error:\", texl70[i])                 \n",
    "    langdet.append(lang) "
   ]
  },
  {
   "cell_type": "code",
   "execution_count": 15,
   "metadata": {
    "scrolled": true
   },
   "outputs": [
    {
     "name": "stdout",
     "output_type": "stream",
     "text": [
      "en 2789\n",
      "ja 412\n",
      "de 362\n",
      "zh-cn 200\n",
      "tl 115\n",
      "ko 114\n",
      "ro 108\n",
      "it 100\n",
      "fr 87\n",
      "nl 75\n",
      "af 74\n",
      "no 74\n",
      "id 68\n",
      "ca 61\n",
      "pt 57\n",
      "sw 48\n",
      "es 47\n",
      "da 44\n",
      "sv 43\n",
      "hr 41\n",
      "pl 37\n",
      "cy 35\n",
      "so 32\n",
      "et 29\n",
      "tr 27\n",
      "fi 25\n",
      "vi 22\n",
      "lt 19\n",
      "sl 14\n",
      "sk 13\n",
      "cs 8\n",
      "lv 5\n",
      "hu 5\n",
      "sq 5\n",
      "ar 2\n"
     ]
    }
   ],
   "source": [
    "new_vals = Counter(langdet).most_common()\n",
    "new_vals = new_vals[::1] #this sorts the list in descending order\n",
    "\n",
    "for a, b in new_vals:\n",
    "    print (a, b)"
   ]
  },
  {
   "cell_type": "markdown",
   "metadata": {},
   "source": [
    "Language counts for app. description column "
   ]
  },
  {
   "cell_type": "code",
   "execution_count": 23,
   "metadata": {
    "scrolled": true
   },
   "outputs": [
    {
     "name": "stdout",
     "output_type": "stream",
     "text": [
      "en 2789\n",
      "ja 412\n",
      "de 362\n",
      "zh-cn 200\n",
      "tl 115\n",
      "ko 114\n",
      "ro 108\n",
      "it 100\n",
      "fr 87\n",
      "nl 75\n",
      "af 74\n",
      "no 74\n",
      "id 68\n",
      "ca 61\n",
      "pt 57\n",
      "sw 48\n",
      "es 47\n",
      "da 44\n",
      "sv 43\n",
      "hr 41\n",
      "pl 37\n",
      "cy 35\n",
      "so 32\n",
      "et 29\n",
      "tr 27\n",
      "fi 25\n",
      "vi 22\n",
      "lt 19\n",
      "sl 14\n",
      "sk 13\n",
      "cs 8\n",
      "lv 5\n",
      "hu 5\n",
      "sq 5\n",
      "ar 2\n"
     ]
    }
   ],
   "source": [
    "texldesc = df_train['desc']\n",
    "langdesc = []                                                    \n",
    "\n",
    "for i in range(len(df_train)):                                         \n",
    "    try:                                                          \n",
    "       langdes=detect(texldesc[i])                                      \n",
    "    except:                                                       \n",
    "       langdes='no'                                                  \n",
    "       print(\"This row throws error:\", texldesc[i])                 \n",
    "    langdesc.append(langdes) \n",
    "\n",
    "new_lan = Counter(langdet).most_common()\n",
    "new_lan = new_vals[::1] #this sorts the list in descending order\n",
    "\n",
    "for v, m in new_lan:\n",
    "    print (v, m)"
   ]
  },
  {
   "cell_type": "markdown",
   "metadata": {},
   "source": [
    "View Datatypes of Variables in Dataframe"
   ]
  },
  {
   "cell_type": "code",
   "execution_count": 16,
   "metadata": {},
   "outputs": [
    {
     "data": {
      "text/plain": [
       "id                    int64\n",
       "track_name           object\n",
       "size_bytes            int64\n",
       "currency             object\n",
       "price               float64\n",
       "rating_count_tot      int64\n",
       "rating_count_ver      int64\n",
       "ver                  object\n",
       "cont_rating          object\n",
       "prime_genre          object\n",
       "sup_devices.num       int64\n",
       "ipadSc_urls.num       int64\n",
       "lang.num              int64\n",
       "vpp_lic               int64\n",
       "desc                 object\n",
       "rating                int64\n",
       "dtype: object"
      ]
     },
     "execution_count": 16,
     "metadata": {},
     "output_type": "execute_result"
    }
   ],
   "source": [
    "df_train.dtypes"
   ]
  },
  {
   "cell_type": "markdown",
   "metadata": {},
   "source": [
    "Table giving description of variables"
   ]
  },
  {
   "cell_type": "code",
   "execution_count": 17,
   "metadata": {},
   "outputs": [
    {
     "data": {
      "text/html": [
       "<div>\n",
       "<style scoped>\n",
       "    .dataframe tbody tr th:only-of-type {\n",
       "        vertical-align: middle;\n",
       "    }\n",
       "\n",
       "    .dataframe tbody tr th {\n",
       "        vertical-align: top;\n",
       "    }\n",
       "\n",
       "    .dataframe thead th {\n",
       "        text-align: right;\n",
       "    }\n",
       "</style>\n",
       "<table border=\"1\" class=\"dataframe\">\n",
       "  <thead>\n",
       "    <tr style=\"text-align: right;\">\n",
       "      <th></th>\n",
       "      <th>Description</th>\n",
       "    </tr>\n",
       "    <tr>\n",
       "      <th>Variables</th>\n",
       "      <th></th>\n",
       "    </tr>\n",
       "  </thead>\n",
       "  <tbody>\n",
       "    <tr>\n",
       "      <td>id</td>\n",
       "      <td>App ID</td>\n",
       "    </tr>\n",
       "    <tr>\n",
       "      <td>track_name</td>\n",
       "      <td>App Name</td>\n",
       "    </tr>\n",
       "    <tr>\n",
       "      <td>size_bytes</td>\n",
       "      <td>Size (in Bytes)</td>\n",
       "    </tr>\n",
       "    <tr>\n",
       "      <td>currency</td>\n",
       "      <td>Currency Type</td>\n",
       "    </tr>\n",
       "    <tr>\n",
       "      <td>Price</td>\n",
       "      <td>Price amount</td>\n",
       "    </tr>\n",
       "    <tr>\n",
       "      <td>rating_count_tot</td>\n",
       "      <td>User Rating counts (for all version)</td>\n",
       "    </tr>\n",
       "    <tr>\n",
       "      <td>rating_count_ver</td>\n",
       "      <td>User Rating counts (for current version)</td>\n",
       "    </tr>\n",
       "    <tr>\n",
       "      <td>ver</td>\n",
       "      <td>Latest version code</td>\n",
       "    </tr>\n",
       "    <tr>\n",
       "      <td>cont_rating</td>\n",
       "      <td>Content Rating</td>\n",
       "    </tr>\n",
       "    <tr>\n",
       "      <td>prime_genre</td>\n",
       "      <td>Primary Genre</td>\n",
       "    </tr>\n",
       "    <tr>\n",
       "      <td>sup_devices.num</td>\n",
       "      <td>Number of supporting devices</td>\n",
       "    </tr>\n",
       "    <tr>\n",
       "      <td>ipadSc_urls.num</td>\n",
       "      <td>Number of screenshots showed for display</td>\n",
       "    </tr>\n",
       "    <tr>\n",
       "      <td>lang.num</td>\n",
       "      <td>Number of supported languages</td>\n",
       "    </tr>\n",
       "    <tr>\n",
       "      <td>vpp_lic</td>\n",
       "      <td>Vpp Device Based Licensing Enabled</td>\n",
       "    </tr>\n",
       "    <tr>\n",
       "      <td>desc</td>\n",
       "      <td>Whether the overall user rating is above 4 sta...</td>\n",
       "    </tr>\n",
       "  </tbody>\n",
       "</table>\n",
       "</div>"
      ],
      "text/plain": [
       "                                                        Description\n",
       "Variables                                                          \n",
       "id                                                           App ID\n",
       "track_name                                                 App Name\n",
       "size_bytes                                          Size (in Bytes)\n",
       "currency                                              Currency Type\n",
       "Price                                                  Price amount\n",
       "rating_count_tot               User Rating counts (for all version)\n",
       "rating_count_ver           User Rating counts (for current version)\n",
       "ver                                             Latest version code\n",
       "cont_rating                                          Content Rating\n",
       "prime_genre                                           Primary Genre\n",
       "sup_devices.num                        Number of supporting devices\n",
       "ipadSc_urls.num            Number of screenshots showed for display\n",
       "lang.num                              Number of supported languages\n",
       "vpp_lic                          Vpp Device Based Licensing Enabled\n",
       "desc              Whether the overall user rating is above 4 sta..."
      ]
     },
     "execution_count": 17,
     "metadata": {},
     "output_type": "execute_result"
    }
   ],
   "source": [
    "variable_description = {'id': 'App ID', 'track_name': 'App Name',\n",
    "'size_bytes': 'Size (in Bytes)', 'currency': 'Currency Type',\n",
    "'Price': 'Price amount',\n",
    "'rating_count_tot': 'User Rating counts (for all version)',\n",
    "'rating_count_ver': 'User Rating counts (for current version)',\n",
    "'ver': 'Latest version code',\n",
    "'cont_rating': 'Content Rating',\n",
    "'prime_genre': 'Primary Genre',\n",
    "'sup_devices.num': 'Number of supporting devices',\n",
    "'ipadSc_urls.num': 'Number of screenshots showed for display',\n",
    "'lang.num': 'Number of supported languages',\n",
    "'vpp_lic': 'Vpp Device Based Licensing Enabled',\n",
    "'desc': 'Whether the overall user rating is above 4 stars or not (1=yes, 0=no)'}\n",
    "variables = pd.DataFrame.from_dict(variable_description, orient = 'Index')\n",
    "variables.index.name = 'Variables'\n",
    "variables = variables.rename(columns={0:'Description'})\n",
    "variables"
   ]
  },
  {
   "cell_type": "markdown",
   "metadata": {},
   "source": [
    "More information on columns in dataframe"
   ]
  },
  {
   "cell_type": "code",
   "execution_count": 18,
   "metadata": {},
   "outputs": [
    {
     "name": "stdout",
     "output_type": "stream",
     "text": [
      "<class 'pandas.core.frame.DataFrame'>\n",
      "RangeIndex: 5197 entries, 0 to 5196\n",
      "Data columns (total 16 columns):\n",
      "id                  5197 non-null int64\n",
      "track_name          5197 non-null object\n",
      "size_bytes          5197 non-null int64\n",
      "currency            5197 non-null object\n",
      "price               5197 non-null float64\n",
      "rating_count_tot    5197 non-null int64\n",
      "rating_count_ver    5197 non-null int64\n",
      "ver                 5197 non-null object\n",
      "cont_rating         5197 non-null object\n",
      "prime_genre         5197 non-null object\n",
      "sup_devices.num     5197 non-null int64\n",
      "ipadSc_urls.num     5197 non-null int64\n",
      "lang.num            5197 non-null int64\n",
      "vpp_lic             5197 non-null int64\n",
      "desc                5197 non-null object\n",
      "rating              5197 non-null int64\n",
      "dtypes: float64(1), int64(9), object(6)\n",
      "memory usage: 649.8+ KB\n"
     ]
    }
   ],
   "source": [
    "df_train.info()"
   ]
  },
  {
   "cell_type": "code",
   "execution_count": 19,
   "metadata": {},
   "outputs": [
    {
     "data": {
      "text/plain": [
       "id                  5197\n",
       "track_name          5196\n",
       "size_bytes          5144\n",
       "currency               1\n",
       "price                 34\n",
       "rating_count_tot    2488\n",
       "rating_count_ver     949\n",
       "ver                 1305\n",
       "cont_rating            4\n",
       "prime_genre           23\n",
       "sup_devices.num       20\n",
       "ipadSc_urls.num        6\n",
       "lang.num              54\n",
       "vpp_lic                2\n",
       "desc                5179\n",
       "rating                 2\n",
       "dtype: int64"
      ]
     },
     "execution_count": 19,
     "metadata": {},
     "output_type": "execute_result"
    }
   ],
   "source": [
    "df_train.nunique()"
   ]
  },
  {
   "cell_type": "markdown",
   "metadata": {},
   "source": [
    "Checking percentage of unique values per varible in dataframe"
   ]
  },
  {
   "cell_type": "code",
   "execution_count": 20,
   "metadata": {},
   "outputs": [
    {
     "name": "stdout",
     "output_type": "stream",
     "text": [
      "id                  6.250000\n",
      "track_name          6.248797\n",
      "size_bytes          6.186261\n",
      "currency            0.001203\n",
      "price               0.040889\n",
      "rating_count_tot    2.992111\n",
      "rating_count_ver    1.141283\n",
      "ver                 1.569415\n",
      "cont_rating         0.004810\n",
      "prime_genre         0.027660\n",
      "sup_devices.num     0.024052\n",
      "ipadSc_urls.num     0.007216\n",
      "lang.num            0.064941\n",
      "vpp_lic             0.002405\n",
      "desc                6.228353\n",
      "rating              0.002405\n",
      "dtype: float64\n"
     ]
    }
   ],
   "source": [
    "dfSki = df_train.nunique()\n",
    "dfSize = df_train.size\n",
    "percentage_dfSki = (dfSki/dfSize)*100\n",
    "print(percentage_dfSki)"
   ]
  },
  {
   "cell_type": "markdown",
   "metadata": {},
   "source": [
    "Verify counts of currency"
   ]
  },
  {
   "cell_type": "code",
   "execution_count": 24,
   "metadata": {
    "scrolled": true
   },
   "outputs": [
    {
     "data": {
      "text/plain": [
       "USD    5197\n",
       "Name: currency, dtype: int64"
      ]
     },
     "execution_count": 24,
     "metadata": {},
     "output_type": "execute_result"
    }
   ],
   "source": [
    "df_train['currency'].value_counts()"
   ]
  },
  {
   "cell_type": "markdown",
   "metadata": {},
   "source": [
    "Dropping Redundant variables (track_name and description columns were dropped from dataframe because 2,408 of the records have languages that are not in english. If these rows were dropped, we will path with about 46% of the data in the dataframe. Hence, to avoid this situation, dropping the columns will be the most reasonable step to take. Another option is to translate the languages to english. What's the possibility of this?)"
   ]
  },
  {
   "cell_type": "code",
   "execution_count": 29,
   "metadata": {},
   "outputs": [],
   "source": [
    "df = df_train.drop(['track_name','currency','desc'], axis=1) "
   ]
  },
  {
   "cell_type": "markdown",
   "metadata": {},
   "source": [
    "Checking for duplicated role in dataframe"
   ]
  },
  {
   "cell_type": "code",
   "execution_count": 31,
   "metadata": {},
   "outputs": [
    {
     "data": {
      "text/html": [
       "<div>\n",
       "<style scoped>\n",
       "    .dataframe tbody tr th:only-of-type {\n",
       "        vertical-align: middle;\n",
       "    }\n",
       "\n",
       "    .dataframe tbody tr th {\n",
       "        vertical-align: top;\n",
       "    }\n",
       "\n",
       "    .dataframe thead th {\n",
       "        text-align: right;\n",
       "    }\n",
       "</style>\n",
       "<table border=\"1\" class=\"dataframe\">\n",
       "  <thead>\n",
       "    <tr style=\"text-align: right;\">\n",
       "      <th></th>\n",
       "      <th>id</th>\n",
       "      <th>size_bytes</th>\n",
       "      <th>price</th>\n",
       "      <th>rating_count_tot</th>\n",
       "      <th>rating_count_ver</th>\n",
       "      <th>ver</th>\n",
       "      <th>cont_rating</th>\n",
       "      <th>prime_genre</th>\n",
       "      <th>sup_devices.num</th>\n",
       "      <th>ipadSc_urls.num</th>\n",
       "      <th>lang.num</th>\n",
       "      <th>vpp_lic</th>\n",
       "      <th>rating</th>\n",
       "    </tr>\n",
       "  </thead>\n",
       "  <tbody>\n",
       "  </tbody>\n",
       "</table>\n",
       "</div>"
      ],
      "text/plain": [
       "Empty DataFrame\n",
       "Columns: [id, size_bytes, price, rating_count_tot, rating_count_ver, ver, cont_rating, prime_genre, sup_devices.num, ipadSc_urls.num, lang.num, vpp_lic, rating]\n",
       "Index: []"
      ]
     },
     "execution_count": 31,
     "metadata": {},
     "output_type": "execute_result"
    }
   ],
   "source": [
    "duplicateRowsDF = df[df.duplicated()]\n",
    "duplicateRowsDF"
   ]
  },
  {
   "cell_type": "markdown",
   "metadata": {},
   "source": [
    "Some of the data warngling steps were skipped because the data was cleaned from its source. \n",
    "The df_train is clean of null values and no feature is dropped from the data set. \n",
    "Hence, there is no need to write the data set out as the original data will be used."
   ]
  },
  {
   "cell_type": "markdown",
   "metadata": {},
   "source": [
    "Write out cleaned dataframe to folder"
   ]
  },
  {
   "cell_type": "code",
   "execution_count": 33,
   "metadata": {},
   "outputs": [],
   "source": [
    "df.to_csv(r'/Users/oluwafemibabatunde/Desktop/Springboard/capstone_one/apple-app/data/step1_output.csv')"
   ]
  },
  {
   "cell_type": "code",
   "execution_count": null,
   "metadata": {},
   "outputs": [],
   "source": []
  }
 ],
 "metadata": {
  "kernelspec": {
   "display_name": "Python 3",
   "language": "python",
   "name": "python3"
  },
  "language_info": {
   "codemirror_mode": {
    "name": "ipython",
    "version": 3
   },
   "file_extension": ".py",
   "mimetype": "text/x-python",
   "name": "python",
   "nbconvert_exporter": "python",
   "pygments_lexer": "ipython3",
   "version": "3.7.4"
  }
 },
 "nbformat": 4,
 "nbformat_minor": 2
}
